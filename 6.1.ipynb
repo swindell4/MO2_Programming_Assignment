{
 "cells": [
  {
   "cell_type": "code",
   "execution_count": 7,
   "id": "1c0ec882-a386-4930-9d48-b8a94aefbea6",
   "metadata": {},
   "outputs": [
    {
     "name": "stdout",
     "output_type": "stream",
     "text": [
      "[3, 2, 1, 0]\n"
     ]
    }
   ],
   "source": [
    "list = [] \n",
    "for number in range(3, -1, -1): \n",
    "   list.append(number) \n",
    "print(list) "
   ]
  },
  {
   "cell_type": "code",
   "execution_count": null,
   "id": "405d964d-7f06-4f19-8cf4-13e00c7cc778",
   "metadata": {},
   "outputs": [],
   "source": []
  }
 ],
 "metadata": {
  "kernelspec": {
   "display_name": "Python 3 (ipykernel)",
   "language": "python",
   "name": "python3"
  },
  "language_info": {
   "codemirror_mode": {
    "name": "ipython",
    "version": 3
   },
   "file_extension": ".py",
   "mimetype": "text/x-python",
   "name": "python",
   "nbconvert_exporter": "python",
   "pygments_lexer": "ipython3",
   "version": "3.11.7"
  }
 },
 "nbformat": 4,
 "nbformat_minor": 5
}
