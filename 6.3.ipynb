{
 "cells": [
  {
   "cell_type": "code",
   "execution_count": 1,
   "id": "6757ad8a-ca4c-4e44-bc6a-39b2ec796c20",
   "metadata": {},
   "outputs": [
    {
     "name": "stdout",
     "output_type": "stream",
     "text": [
      "To low.\n",
      "To low.\n",
      "To low.\n",
      "To low.\n",
      "To low.\n",
      "Found it.\n"
     ]
    }
   ],
   "source": [
    "guess_me = int(5) \n",
    "for number in range(10): \n",
    "   if number < guess_me: \n",
    "      print(\"To low.\") \n",
    "   elif number == guess_me: \n",
    "      print(\"Found it.\") \n",
    "      break\n",
    "   elif number > guess_me: \n",
    "      print(\"Oops.\") \n",
    "      break "
   ]
  },
  {
   "cell_type": "code",
   "execution_count": null,
   "id": "41600a99-e47d-4790-83b0-69464eb1a3a6",
   "metadata": {},
   "outputs": [],
   "source": []
  }
 ],
 "metadata": {
  "kernelspec": {
   "display_name": "Python 3 (ipykernel)",
   "language": "python",
   "name": "python3"
  },
  "language_info": {
   "codemirror_mode": {
    "name": "ipython",
    "version": 3
   },
   "file_extension": ".py",
   "mimetype": "text/x-python",
   "name": "python",
   "nbconvert_exporter": "python",
   "pygments_lexer": "ipython3",
   "version": "3.11.7"
  }
 },
 "nbformat": 4,
 "nbformat_minor": 5
}
