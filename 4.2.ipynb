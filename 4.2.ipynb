{
 "cells": [
  {
   "cell_type": "code",
   "execution_count": null,
   "id": "941ce78f-840e-41f2-b00f-41a8fe57bbf2",
   "metadata": {},
   "outputs": [],
   "source": [
    "# Cherry, Pea, Watermelon, Pumpkin.\n",
    "small = True \n",
    "green = False \n",
    "if small == True: \n",
    "   if green == True: \n",
    "      print(\"Pea\") \n",
    "   else: \n",
    "      print(\"Cherry\") \n",
    "if small == False: \n",
    "   if green == False: \n",
    "      print(\"Pumpkin\") \n",
    "   else: \n",
    "      print(\"Watermelon\") "
   ]
  }
 ],
 "metadata": {
  "kernelspec": {
   "display_name": "Python 3 (ipykernel)",
   "language": "python",
   "name": "python3"
  },
  "language_info": {
   "codemirror_mode": {
    "name": "ipython",
    "version": 3
   },
   "file_extension": ".py",
   "mimetype": "text/x-python",
   "name": "python",
   "nbconvert_exporter": "python",
   "pygments_lexer": "ipython3",
   "version": "3.11.7"
  }
 },
 "nbformat": 4,
 "nbformat_minor": 5
}
