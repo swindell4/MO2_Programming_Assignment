{
 "cells": [
  {
   "cell_type": "code",
   "execution_count": 1,
   "id": "3d7888af-6252-4c60-a9c6-f79f67ee29f1",
   "metadata": {},
   "outputs": [
    {
     "name": "stdout",
     "output_type": "stream",
     "text": [
      "Too low.\n",
      "Too low.\n",
      "Too low.\n",
      "Too low.\n",
      "Too low.\n",
      "Too low.\n",
      "Found it.\n"
     ]
    }
   ],
   "source": [
    "guess_me = int(7) \n",
    "number = int(1) \n",
    "while True: \n",
    "   if number < guess_me: \n",
    "      print(\"Too low.\") \n",
    "   elif number > guess_me: \n",
    "      print(\"Oops!\") \n",
    "      break \n",
    "   elif number == guess_me: \n",
    "      print(\"Found it.\") \n",
    "      break\n",
    "   number += 1 "
   ]
  },
  {
   "cell_type": "code",
   "execution_count": null,
   "id": "f0324db0-aecb-4f64-b963-aa3debc7ff18",
   "metadata": {},
   "outputs": [],
   "source": []
  }
 ],
 "metadata": {
  "kernelspec": {
   "display_name": "Python 3 (ipykernel)",
   "language": "python",
   "name": "python3"
  },
  "language_info": {
   "codemirror_mode": {
    "name": "ipython",
    "version": 3
   },
   "file_extension": ".py",
   "mimetype": "text/x-python",
   "name": "python",
   "nbconvert_exporter": "python",
   "pygments_lexer": "ipython3",
   "version": "3.11.7"
  }
 },
 "nbformat": 4,
 "nbformat_minor": 5
}
